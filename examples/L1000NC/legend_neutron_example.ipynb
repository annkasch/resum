{
 "cells": [
  {
   "cell_type": "code",
   "execution_count": null,
   "metadata": {
    "tags": []
   },
   "outputs": [],
   "source": [
    "# General imports\n",
    "import numpy as np\n",
    "np.random.seed(42)\n",
    "import pandas as pd\n",
    "\n",
    "import matplotlib.pyplot as plt\n",
    "%matplotlib notebook\n",
    "from matplotlib import colors as mcolors\n",
    "colors = dict(mcolors.BASE_COLORS, **mcolors.CSS4_COLORS)\n",
    "import sys\n",
    "import os\n",
    "from resum.utilities import plotting_utils as plotting\n",
    "from resum.multi_fidelity_gaussian_process import MultiFidelityVisualizer\n",
    "from resum.multi_fidelity_gaussian_process import MFGPModel\n",
    "from resum.multi_fidelity_gaussian_process import InequalityConstraints"
   ]
  },
  {
   "cell_type": "code",
   "execution_count": null,
   "metadata": {
    "tags": []
   },
   "outputs": [],
   "source": [
    "version = 'v1.6'\n",
    "file_in=f'Ge77_rates_CNP_{version}.csv'\n",
    "if not os.path.exists(f'out/mfgp/{version}'):\n",
    "   os.makedirs(f'out/mfgp/{version}')\n",
    "if not os.path.exists(f'in/mfgp/Ge77_rates_new_samples_{version}.csv'):\n",
    "   fout = open(f'in/mfgp/Ge77_rates_new_samples_{version}.csv')\n",
    "   fout.write(\"#\\n ,Sample,Mode,Radius[cm],Thickness[cm],NPanels,Theta[deg],Length[cm],Ge-77[nevents],Ge-77_CNP,Ge-77_CNP_err\")\n",
    "   fout.close()\n",
    "   \n",
    "\n",
    "# Set parameter name/x_labels -> needs to be consistent with data input file\n",
    "x_labels=['Radius[cm]','Thickness[cm]','NPanels', 'Theta[deg]', 'Length[cm]']\n",
    "x_labels_out = ['Radius [cm]','Thickness [cm]','NPanels', 'Angle [deg]', 'Length [cm]']\n",
    "y_label_cnp = 'y_cnp'\n",
    "y_err_label_cnp = 'y_cnp_err'\n",
    "y_label_sim = 'y_rGe77[nuc/(kg*yr)]'\n",
    "\n",
    "# Set parameter boundaries\n",
    "xmin=[0,0,0,0,0]\n",
    "xmax=[265,20,360,90,150]\n",
    "x_fixed = [160, 2, 40, 45, 20]\n",
    "\n",
    "# Set parameter boundaries for aquisition function\n",
    "parameters={'Radius[cm]': [90,250], 'Thickness[cm]':[2,15],'NPanels': [4,360], 'Theta[deg]': [0,90], 'Length[cm]': [1,150]}\n",
    "parameters_draw={'Radius [cm]': [0,265],'Thickness [cm]': [0,20],'NPanels': [0,360], 'Angle [deg]': [0,90], 'Length [cm]': [0,150]}\n",
    "\n",
    "# Assign costs\n",
    "low_fidelity_cost = 1.\n",
    "high_fidelity_cost = 2000.\n"
   ]
  },
  {
   "cell_type": "code",
   "execution_count": null,
   "metadata": {
    "tags": []
   },
   "outputs": [],
   "source": [
    "data=pd.read_csv(f'in/mfgp/{file_in}')\n",
    "\n",
    "LF_cnp_noise=np.mean(data.loc[data['Fidelity']==0.][y_err_label_cnp].to_numpy())\n",
    "HF_cnp_noise=np.mean(data.loc[data['Fidelity']==1.][y_err_label_cnp].to_numpy())\n",
    "\n",
    "x_train_l, x_train_h, y_train_l, y_train_h = ([],[],[],[])\n",
    "row_h=data.index[data['Fidelity'] == 1].tolist()\n",
    "row_l=data.index[data['Fidelity'] == 0].tolist()\n",
    "\n",
    "x_train_hf_sim = data.loc[data['Fidelity']==1.][x_labels].to_numpy().tolist()\n",
    "y_train_hf_sim = data.loc[data['Fidelity']==1.][y_label_sim].to_numpy().tolist()\n",
    "\n",
    "x_train_hf_cnp = data.loc[data['Fidelity']==1.][x_labels].to_numpy().tolist()\n",
    "y_train_hf_cnp = data.loc[data['Fidelity']==1.][ y_label_cnp].to_numpy().tolist()\n",
    "\n",
    "x_train_lf_sim = data.loc[data['Fidelity']==0.][x_labels].to_numpy().tolist()\n",
    "y_train_lf_sim = data.loc[data['Fidelity']==0.][ y_label_sim].to_numpy().tolist()\n",
    "\n",
    "x_train_lf_cnp = data.loc[data['Fidelity']==0.][x_labels].to_numpy().tolist()\n",
    "y_train_lf_cnp = data.loc[data['Fidelity']==0.][ y_label_cnp].to_numpy().tolist()\n",
    "\n",
    "trainings_data = {\"lf\": [x_train_lf_cnp,y_train_lf_cnp], \"mf\": [x_train_hf_cnp,y_train_hf_cnp], \"hf\": [x_train_hf_sim,y_train_hf_sim]}\n",
    "noise = {\"lf\": LF_cnp_noise, \"mf\": 0., \"hf\": 0.}\n"
   ]
  },
  {
   "cell_type": "code",
   "execution_count": null,
   "metadata": {},
   "outputs": [],
   "source": [
    "class NeutronModeratorInequalityConstraints(InequalityConstraints):\n",
    "    def __init__(self, get_inner_radius, get_outer_radius, is_crossed):\n",
    "        self.get_inner_radius = get_inner_radius\n",
    "        self.get_outer_radius = get_outer_radius\n",
    "        self.is_crossed = is_crossed\n",
    "\n",
    "    def evaluate(self, x):\n",
    "        super().evaluate(x)\n",
    "        delta_x = np.ones(len(x))\n",
    "        for i, xi in enumerate(x[:, :-1]):\n",
    "            if self.get_inner_radius(xi) < 90.0:\n",
    "                delta_x[i] = 0.0\n",
    "            elif self.get_outer_radius(xi) > 265.0:\n",
    "                delta_x[i] = 0.0\n",
    "            elif self.get_outer_radius(xi) - self.get_inner_radius(xi) > 20.0:\n",
    "                delta_x[i] = 0.0\n",
    "            elif (\n",
    "                xi[2] * xi[1] * xi[4]\n",
    "                > 1.05 * np.pi * (self.get_outer_radius(xi)**2 - self.get_inner_radius(xi)**2)\n",
    "            ):\n",
    "                delta_x[i] = 0.0\n",
    "            elif self.is_crossed(xi):\n",
    "                delta_x[i] = 0.0\n",
    "            else:\n",
    "                delta_x[i] = 1.0\n",
    "        return delta_x[:, None]"
   ]
  },
  {
   "cell_type": "code",
   "execution_count": null,
   "metadata": {},
   "outputs": [],
   "source": [
    "inequalities = NeutronModeratorInequalityConstraints(plotting.get_inner_radius, plotting.get_outer_radius, plotting.is_crossed)"
   ]
  },
  {
   "cell_type": "code",
   "execution_count": null,
   "metadata": {},
   "outputs": [],
   "source": [
    "mf_model = MFGPModel(trainings_data,noise, inequalities)\n",
    "mf_model.build_model(1)"
   ]
  },
  {
   "cell_type": "code",
   "execution_count": null,
   "metadata": {},
   "outputs": [],
   "source": [
    "mf_model.model.gpy_model"
   ]
  },
  {
   "cell_type": "code",
   "execution_count": null,
   "metadata": {},
   "outputs": [],
   "source": [
    "%%capture\n",
    "leg_label = []\n",
    "ncol=3\n",
    "nrow=int(np.ceil(len(x_labels)/ncol))\n",
    "fig2,_  = plt.subplots(nrow, ncol, figsize=(15, 5), constrained_layout=True)\n",
    "fig4,_  = plt.subplots(int(np.ceil(len(x_labels)/1)), 1, figsize=(5, 12), constrained_layout=True)\n",
    "\n"
   ]
  },
  {
   "cell_type": "code",
   "execution_count": null,
   "metadata": {},
   "outputs": [],
   "source": [
    "mf_vis = MultiFidelityVisualizer(mf_model,parameters_draw,x_fixed)"
   ]
  },
  {
   "cell_type": "code",
   "execution_count": null,
   "metadata": {},
   "outputs": [],
   "source": [
    "\n",
    "data_new=pd.read_csv(f'in/mfgp/Ge77_rates_new_samples_{version}.csv')\n",
    "sample=0\n",
    "add_new_sample=True\n",
    "mf_model.set_traings_data(trainings_data)\n",
    "\n",
    "while ( sample <= data_new['Sample'].max()):\n",
    "    print('Sample #', sample)\n",
    "\n",
    "    if sample > 0:    \n",
    "         \n",
    "        x_train_hf_sim = data_new[(data_new['Fidelity']==1.) & (data_new['Sample']==sample)][x_labels].to_numpy().tolist()\n",
    "        y_train_hf_sim = data_new[(data_new['Fidelity']==1.) & (data_new['Sample']==sample)][y_label_sim].to_numpy().tolist()\n",
    "        print(f\"Adding {x_train_hf_sim}\")   \n",
    "        x_train_hf_cnp = data_new[(data_new['Fidelity']==1.) & (data_new['Sample']==sample)][x_labels].to_numpy().tolist()\n",
    "        y_train_hf_cnp = data_new[(data_new['Fidelity']==1.) & (data_new['Sample']==sample)][y_label_cnp].to_numpy().tolist()\n",
    "\n",
    "        x_train_lf_cnp = data_new[(data_new['Fidelity']==0.) & (data_new['Sample']==sample)][x_labels].to_numpy().tolist()\n",
    "        y_train_lf_cnp = data_new[(data_new['Fidelity']==0.) & (data_new['Sample']==sample)][ y_label_cnp].to_numpy().tolist()\n",
    "        trainings_data_new = {\"lf\": [x_train_lf_cnp,y_train_lf_cnp], \"mf\": [x_train_hf_cnp,y_train_hf_cnp], \"hf\": [x_train_hf_sim,y_train_hf_sim]}\n",
    "        mf_model.set_data(trainings_data_new)\n",
    "\n",
    "\n",
    "    # run the model drawing\n",
    "    fig1, ax = plt.subplots(2, 3,figsize=(15, 5),constrained_layout=True)\n",
    "    fig1 = mf_vis.draw_model_projections(fig1)\n",
    "    fig2 = mf_vis.draw_model_projections(fig2)\n",
    "\n",
    "    # find the next data point\n",
    "    x_next_sample, us_acquisition = mf_model.max_acquisition_integrated_variance_reduction(parameters)\n",
    "    print(f'next suggested point to simulated is at: {x_next_sample}')\n",
    "    fig4 = mf_vis.draw_acquisition_func(fig4, us_acquisition, np.array(x_next_sample))\n",
    "    sample+=1\n",
    "\n",
    "\n"
   ]
  },
  {
   "cell_type": "code",
   "execution_count": null,
   "metadata": {},
   "outputs": [],
   "source": [
    "fig4.savefig(\"out/mfgp/model.png\")"
   ]
  },
  {
   "cell_type": "code",
   "execution_count": null,
   "metadata": {},
   "outputs": [],
   "source": [
    "%matplotlib inline\n",
    "fig2.show()\n",
    "fig4.show()"
   ]
  },
  {
   "cell_type": "code",
   "execution_count": null,
   "metadata": {},
   "outputs": [],
   "source": [
    "fig3 = mf_vis.draw_model()"
   ]
  },
  {
   "cell_type": "code",
   "execution_count": null,
   "metadata": {},
   "outputs": [],
   "source": [
    "data_test=pd.read_csv(f'in/mfgp/hf_validation_data_v1.2.csv')\n",
    "x_test = data_test.loc[data_test['Fidelity']==1.][x_labels].to_numpy().tolist()\n",
    "y_test = data_test.loc[data_test['Fidelity']==1.][y_label_sim].to_numpy().tolist()\n",
    "fig5, validation  = mf_vis.model_validation(x_test, y_test)\n",
    "plt.show()\n"
   ]
  }
 ],
 "metadata": {
  "kernelspec": {
   "display_name": "legend",
   "language": "python",
   "name": "python3"
  },
  "language_info": {
   "codemirror_mode": {
    "name": "ipython",
    "version": 3
   },
   "file_extension": ".py",
   "mimetype": "text/x-python",
   "name": "python",
   "nbconvert_exporter": "python",
   "pygments_lexer": "ipython3",
   "version": "3.10.11"
  }
 },
 "nbformat": 4,
 "nbformat_minor": 4
}
