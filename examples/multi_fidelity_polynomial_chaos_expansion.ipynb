{
 "cells": [
  {
   "cell_type": "code",
   "execution_count": null,
   "metadata": {},
   "outputs": [],
   "source": [
    "import numpy as np\n",
    "import os\n",
    "import pandas as pd\n",
    "import yaml\n",
    "np.random.seed(42)\n",
    "import os\n",
    "from resum.polynomial_chaos_expansion import PCEMultiFidelityModel"
   ]
  },
  {
   "cell_type": "code",
   "execution_count": null,
   "metadata": {},
   "outputs": [],
   "source": [
    "with open(\"./binary-black-hole/settings.yaml\", \"r\") as f:\n",
    "    config_file = yaml.safe_load(f)\n",
    "\n",
    "version       = config_file[\"path_settings\"][\"version\"]\n",
    "path_out_cnp  = config_file[\"path_settings\"][\"path_out_cnp\"]\n",
    "path_out_pce = config_file[\"path_settings\"][\"path_out_pce\"]\n",
    "file_in=f'{path_out_cnp}/cnp_{version}_output.csv'\n",
    "print(version, file_in)\n"
   ]
  },
  {
   "cell_type": "code",
   "execution_count": null,
   "metadata": {},
   "outputs": [],
   "source": [
    "\n",
    "if not os.path.exists(path_out_pce):\n",
    "   os.makedirs(path_out_pce)\n",
    "\n",
    "# Set parameter name/x_labels -> needs to be consistent with data input file\n",
    "x_labels        = config_file[\"simulation_settings\"][\"theta_headers\"]\n",
    "y_label_cnp     = 'y_cnp'\n",
    "y_err_label_cnp = 'y_cnp_err'\n",
    "y_label_sim     = 'y_raw'\n",
    "\n",
    "# Set parameter boundaries\n",
    "xmin = config_file[\"simulation_settings\"][\"theta_min\"]\n",
    "xmax = config_file[\"simulation_settings\"][\"theta_max\"]\n",
    "x_fixed = config_file[\"simulation_settings\"][\"theta_fixed\"]\n",
    "parameters={}\n",
    "for i,x in enumerate(x_labels):\n",
    "   parameters[x]=[xmin[i],xmax[i]]\n"
   ]
  },
  {
   "cell_type": "code",
   "execution_count": null,
   "metadata": {},
   "outputs": [],
   "source": [
    "data=pd.read_csv(file_in)"
   ]
  },
  {
   "cell_type": "code",
   "execution_count": null,
   "metadata": {},
   "outputs": [],
   "source": [
    "\n",
    "LF_cnp_noise=np.mean(data.loc[(data['fidelity']==0.) & (data['iteration']==0)][y_err_label_cnp].to_numpy())\n",
    "HF_cnp_noise=np.mean(data.loc[(data['fidelity']==1.) & (data['iteration']==0)][y_err_label_cnp].to_numpy())\n",
    "\n",
    "x_train_hf = data.loc[(data['fidelity']==1.) & (data['iteration']==0)][x_labels].to_numpy()\n",
    "y_train_hf = data.loc[(data['fidelity']==1.) & (data['iteration']==0)][y_label_sim].to_numpy()\n",
    "\n",
    "x_train_mf = data.loc[(data['fidelity']==1.) & (data['iteration']==0)][x_labels].to_numpy()\n",
    "y_train_mf = data.loc[(data['fidelity']==1.) & (data['iteration']==0)][ y_label_cnp].to_numpy()\n",
    "\n",
    "x_train_lf_sim = data.loc[(data['fidelity']==0.) & (data['iteration']==0)][x_labels].to_numpy()\n",
    "y_train_lf_sim = data.loc[(data['fidelity']==0.) & (data['iteration']==0)][ y_label_sim].to_numpy()\n",
    "\n",
    "x_train_lf = data.loc[(data['fidelity']==0.) & (data['iteration']==0)][x_labels].to_numpy()\n",
    "y_train_lf = data.loc[(data['fidelity']==0.) & (data['iteration']==0)][ y_label_cnp].to_numpy()"
   ]
  },
  {
   "cell_type": "code",
   "execution_count": null,
   "metadata": {},
   "outputs": [],
   "source": [
    "# Initialize the model\n",
    "trainings_data = {\"lf\": [x_train_lf,y_train_lf], \"mf\": [x_train_mf, y_train_mf], \"hf\": [x_train_hf,y_train_hf]}\n",
    "\n",
    "# Prior configurations\n",
    "priors = {\n",
    "    \"lf\": {\"sigma_coeffs\": 0.5, \"sigma\": 0.01},\n",
    "    \"mf\": {\"sigma_rho\": 0.08, \"sigma_coeffs_delta\": 0.005, \"sigma\": 0.005},\n",
    "    \"hf\": {\"sigma_rho\": 0.08, \"sigma_coeffs_delta\": 0.005, \"sigma\": 0.005}\n",
    "}\n",
    "print(trainings_data[\"hf\"])\n"
   ]
  },
  {
   "cell_type": "code",
   "execution_count": null,
   "metadata": {},
   "outputs": [],
   "source": [
    "# Initialize the multi-fidelity model\n",
    "multi_fidelity_model = PCEMultiFidelityModel(trainings_data, priors, degree=1)"
   ]
  },
  {
   "cell_type": "code",
   "execution_count": null,
   "metadata": {},
   "outputs": [],
   "source": [
    "# Build the model\n",
    "multi_fidelity_model.build_model()\n",
    "trace=multi_fidelity_model.run_inference()"
   ]
  },
  {
   "cell_type": "code",
   "execution_count": null,
   "metadata": {},
   "outputs": [],
   "source": [
    "multi_fidelity_model.plot_trace()"
   ]
  },
  {
   "cell_type": "code",
   "execution_count": null,
   "metadata": {},
   "outputs": [],
   "source": [
    "#data_test=pd.read_csv(\"{resum_path}/baseline_models_comparison/in/hf_validation_data_v1.2.csv\")\n",
    "#row_hf_test=data_test.index[data_test['fidelity'] == 1]\n",
    "#row_lf_test=data_test.index[data_test['fidelity'] == 0]\n",
    "#x_test = data_test.loc[row_hf_test][x_labels].to_numpy()\n",
    "#y_test = data_test.loc[row_hf_test][y_label_sim].to_numpy()\n",
    "#test_data = {\"hf\": [x_test,y_test]}"
   ]
  },
  {
   "cell_type": "code",
   "execution_count": null,
   "metadata": {},
   "outputs": [],
   "source": [
    "#multi_fidelity_model.evaluate_mse(x_test, y_test)"
   ]
  },
  {
   "cell_type": "code",
   "execution_count": null,
   "metadata": {},
   "outputs": [],
   "source": [
    "#multi_fidelity_model.plot_validation(x_test,y_test)"
   ]
  },
  {
   "cell_type": "code",
   "execution_count": null,
   "metadata": {},
   "outputs": [],
   "source": [
    "\n",
    "#multi_fidelity_model.validate_coverage(x_test,y_test)"
   ]
  }
 ],
 "metadata": {
  "kernelspec": {
   "display_name": "pymc5-env",
   "language": "python",
   "name": "python3"
  },
  "language_info": {
   "codemirror_mode": {
    "name": "ipython",
    "version": 3
   },
   "file_extension": ".py",
   "mimetype": "text/x-python",
   "name": "python",
   "nbconvert_exporter": "python",
   "pygments_lexer": "ipython3",
   "version": "3.10.16"
  }
 },
 "nbformat": 4,
 "nbformat_minor": 2
}
